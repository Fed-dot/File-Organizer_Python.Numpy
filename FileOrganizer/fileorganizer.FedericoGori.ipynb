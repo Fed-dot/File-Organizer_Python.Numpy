{
 "cells": [
  {
   "cell_type": "markdown",
   "id": "0cdd51f5",
   "metadata": {},
   "source": [
    "# Python project: File_organizer Federico Gori"
   ]
  },
  {
   "cell_type": "markdown",
   "id": "72c8b41d",
   "metadata": {},
   "source": [
    "## STEP #1"
   ]
  },
  {
   "cell_type": "code",
   "execution_count": 91,
   "id": "dfe1324e",
   "metadata": {},
   "outputs": [],
   "source": [
    "# creazione delle sottocartelle per immagini, file audio e testo, se non già presenti nella cartella \"files\"\n",
    "\n",
    "import os\n",
    "\n",
    "#reimpostazione della directory principale\n",
    "returnto=os.path.split(os.getcwd())\n",
    "mainpath=os.path.split(sis[0])\n",
    "os.chdir(mainpath[0])\n",
    "\n",
    "# selezione della directory \"/files\" e creazione delle sottocartelle(\"Audio\",\"Docs\",\"Images\")\n",
    "os.chdir(os.path.join(os.getcwd(),'files'))\n",
    "\n",
    "os.makedirs(os.path.join(os.getcwd(),'Audio'),mode = 0o777, exist_ok = True)   \n",
    "os.makedirs(os.path.join(os.getcwd(),'Docs'),mode = 0o777, exist_ok = True)\n",
    "os.makedirs(os.path.join(os.getcwd(),'Images'),mode = 0o777, exist_ok = True)\n"
   ]
  },
  {
   "cell_type": "markdown",
   "id": "9e29c654",
   "metadata": {},
   "source": [
    "***"
   ]
  },
  {
   "cell_type": "code",
   "execution_count": null,
   "id": "98f05196",
   "metadata": {},
   "outputs": [],
   "source": [
    "# scelta delle librerie per selezionare e spostare i file, creando un csv di recap\n",
    "import shutil, os, csv\n",
    "\n",
    "# selezione della directory \"\"/files\"\n",
    "os.chdir(os.getcwd())\n",
    "\n",
    "# funzione \"locate\" per semplicare il processo di selezione delle sottocartelle dove spostare i file per formato\n",
    "def locate(x):\n",
    "    return os.path.join(os.getcwd(),x)\n",
    "\n",
    "# struttura dati \"formats\" divisa per tipologia, estensione e sottocarella di destinazione dei file per tipo\n",
    "formats = {'Image':[('jpg','jpeg','png'),locate('Images')],\n",
    "           'Audio':['mp3',locate('Audio')],\n",
    "           'Doc': [('odt','txt'),locate('Docs')]}\n",
    "\n",
    "# creazione del file .csv di recap\n",
    "recap_exists = os.path.isfile(\"recap.csv\")\n",
    "with open(\"recap.csv\", mode=\"a\", newline='') as csvfile:\n",
    "    fieldnames = [\"name\",\"type\",\"size(B)\"]\n",
    "    writer = csv.DictWriter(csvfile, fieldnames=fieldnames)\n",
    "\n",
    "# script per evitare la sovrascrittura dell'header nel file .csv aggiungendo nuovi file alla cartella\n",
    "    if not recap_exists:\n",
    "        writer.writeheader()    \n",
    "\n",
    "# iterazione all'interno della cartella /files\n",
    "    for file in sorted(os.listdir()):\n",
    "\n",
    "# iterazione nella struttura dati \"formats\" per selezionare le chiavi(tipologia di file) ed i valori(estensioni dei file, destinazione finale)\n",
    "        for name,ext in formats.items():\n",
    "        \n",
    "# esclusione delle sotto cartelle create in precedenza in os.listdir()\n",
    "            if file.endswith(ext[0]):\n",
    "        \n",
    "# smistamento dei file nelle sotto cartelle di appartenenza\n",
    "                shutil.move(locate(file),os.path.join(ext[1],file))\n",
    "    \n",
    "# visualizzazione dei nomi dei file, della loro tipologia e delle loro dimensioni in Byte\n",
    "# i file trasferiti sono segnati contemporaneamente nel file \"recap.csv\" creato precedentemente \n",
    "                size = str(os.path.getsize(os.path.join(ext[1],file)))\n",
    "                print(file.split('.')[0],'type:'+ name, size +'B')\n",
    "                writer.writerow({\"name\":file.split('.')[0],\"type\": name,\"size(B)\": size})\n",
    "\n"
   ]
  },
  {
   "cell_type": "markdown",
   "id": "df4b2d41",
   "metadata": {},
   "source": [
    "***"
   ]
  },
  {
   "cell_type": "markdown",
   "id": "13701bcc",
   "metadata": {},
   "source": [
    "## STEP #3"
   ]
  },
  {
   "cell_type": "code",
   "execution_count": 94,
   "id": "0621ca80",
   "metadata": {},
   "outputs": [
    {
     "name": "stdout",
     "output_type": "stream",
     "text": [
      "┌──────────┬──────────┬─────────┬─────────────┬────────┬────────┬───────┬─────────┐\n",
      "│ name     │   height │   width │   grayscale │      R │      G │     B │   ALPHA │\n",
      "├──────────┼──────────┼─────────┼─────────────┼────────┼────────┼───────┼─────────┤\n",
      "│ bw       │      512 │     512 │       21.48 │   0.00 │   0.00 │  0.00 │    0.00 │\n",
      "├──────────┼──────────┼─────────┼─────────────┼────────┼────────┼───────┼─────────┤\n",
      "│ daffodil │      500 │     335 │        0.00 │ 109.25 │  85.56 │  4.97 │    0.00 │\n",
      "├──────────┼──────────┼─────────┼─────────────┼────────┼────────┼───────┼─────────┤\n",
      "│ eclipse  │      256 │     256 │        0.00 │ 109.05 │ 109.52 │ 39.85 │  133.59 │\n",
      "├──────────┼──────────┼─────────┼─────────────┼────────┼────────┼───────┼─────────┤\n",
      "│ trump    │      183 │     275 │        0.00 │  97.01 │  98.99 │ 90.92 │    0.00 │\n",
      "└──────────┴──────────┴─────────┴─────────────┴────────┴────────┴───────┴─────────┘\n"
     ]
    }
   ],
   "source": [
    "# selezione delle librerie necessarie per la selezione delle cartelle e delle immagini contenute, la loro trasformazione in array per il calcolo dei valori medi di colore e la creazione di tabelle\n",
    "\n",
    "from PIL import Image\n",
    "from tabulate import tabulate\n",
    "import os, numpy as np\n",
    "\n",
    "# reimpostazione della directory principale dallo step #1 per lo Step #3\n",
    "returnto=os.path.split(os.getcwd())\n",
    "mainpath=os.path.split(sis[0])\n",
    "os.chdir(mainpath[0])\n",
    "\n",
    "# selezione della directory \"Images\"\n",
    "os.chdir(os.path.join(os.getcwd(),'files','Images'))\n",
    "\n",
    "# da questo script si può notare che:\n",
    "#1) le immagini in grayscale hanno 2 dimensioni a contrario delle RGB e RGBA che ne hanno 3\n",
    "#2) le immagini RGBA si distinguono dalle RGB rispetto alla grandezza della terza dimensione dell'immagine, che aggiunge il quarto valore \"ALPHA\"\n",
    "\n",
    "'''\n",
    "[in] \n",
    "\n",
    "for x in os.listdir():\n",
    "    pic=Image.open(os.path.join(os.getcwd(),x))\n",
    "    np_pic = np.array(pic)\n",
    "    print(x,'| dimension = ',np.ndim(np_pic),'| shape = ',np.shape(np_pic),'| coulours_mean = ',np.mean(np_pic,axis=(0,1)))\n",
    "______________________________________________________       \n",
    "\n",
    "[out] \n",
    "\n",
    "bw.png | dimension =  2 | shape =  (512, 512) | coulours_mean =  21.480064392089844\n",
    "daffodil.jpg | dimension =  3 | shape =  (500, 335, 3) | coulours_mean =  [109.22727164  85.52306269   4.76619104]\n",
    "eclipse.png | dimension =  3 | shape =  (256, 256, 4) | coulours_mean =  [109.04953003 109.52186584  39.84899902 133.59094238]\n",
    "trump.jpeg | dimension =  3 | shape =  (183, 275, 3) | coulours_mean =  [97.01080974 98.99409836 90.92379533]\n",
    "'''\n",
    "\n",
    "# creazione delle lista di liste che conterrà i dati delle immagini da inserire in tabella\n",
    "\n",
    "images_list=[]\n",
    "\n",
    "# iterazione attraverso il ciclo 'for' all'interno della sotto cartella \"Images\" \n",
    "\n",
    "for x in os.listdir():\n",
    "# la clausola if evita che la cartella di checkpoint di Jupyter venga iterata\n",
    "    if x != '.ipynb_checkpoints':\n",
    "\n",
    "# le 4 variabili riportano il riferimento all'immagine, la trasformazione dell'immagine in array, la media dei colori e le dimensioni\n",
    "        image = Image.open(os.path.join(os.getcwd(),x))\n",
    "        np_image = np.array(image)\n",
    "        colours_mean = np.mean(np_image, axis = (0,1))\n",
    "        shape = np.shape(image)\n",
    "\n",
    "# le clausole if isolano le immagini rispetto a:\n",
    "#1) la funzione 'np.ndim', rispetto alle dimensioni delle immagini (scala di grigi = 2 | RGB,RGBA = 3)\n",
    "#2) la funzione 'np.shape', rispetto alla grandezza della terza dimensione dell'immagine (RGB = 3 | RGBA = 4)\n",
    "\n",
    "# la variabile \"shape\" viene suddivisa in altezza e larghezza\n",
    "# le liste sono inserite all'interno della lista \"images_list\"\n",
    "        if np.ndim(np_image)==2:\n",
    "            (h,w) = shape\n",
    "            images_list.append([x.split('.')[0],h,w,colours_mean,0,0,0,0])\n",
    "        if np.ndim(np_image)==3 and np.shape(np_image[0,1]) == (3,):\n",
    "            (h,w,d)=shape\n",
    "            images_list.append([x.split('.')[0],h,w,0,colours_mean[0],colours_mean[1],colours_mean[2],0])\n",
    "        if np.ndim(np_image)==3 and np.shape(np_image[0,1]) == (4,):\n",
    "            (h,w,d)=shape\n",
    "            images_list.append([x.split('.')[0],h,w,0,colours_mean[0],colours_mean[1],colours_mean[2],colours_mean[3]])\n",
    "\n",
    "\n",
    "# creazione e visualizzazione della tabella riassuntiva\n",
    "headers= [\"name\",\"height\",\"width\",\"grayscale\",\"R\",\"G\",\"B\",\"ALPHA\"]\n",
    "print(tabulate(images_list, headers, tablefmt=\"simple_grid\",floatfmt=('.2f')))\n"
   ]
  }
 ],
 "metadata": {
  "kernelspec": {
   "display_name": "Python 3 (ipykernel)",
   "language": "python",
   "name": "python3"
  },
  "language_info": {
   "codemirror_mode": {
    "name": "ipython",
    "version": 3
   },
   "file_extension": ".py",
   "mimetype": "text/x-python",
   "name": "python",
   "nbconvert_exporter": "python",
   "pygments_lexer": "ipython3",
   "version": "3.11.7"
  }
 },
 "nbformat": 4,
 "nbformat_minor": 5
}
